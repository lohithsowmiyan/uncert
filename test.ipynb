{
 "cells": [
  {
   "cell_type": "code",
   "execution_count": 1,
   "metadata": {},
   "outputs": [
    {
     "data": {
      "image/png": "[encoded data removed]",
      "text/plain": [
       "<Figure size 800x500 with 1 Axes>"
      ]
     },
     "metadata": {},
     "output_type": "display_data"
    }
   ],
   "source": [
    "import numpy as np\n",
    "import matplotlib.pyplot as plt\n",
    "from sklearn.datasets import load_iris\n",
    "from sklearn.model_selection import train_test_split\n",
    "from src.models import NaiveBayesModel\n",
    "\n",
    "# ---- Assume NaiveBayesModel is already implemented and imported ---- #\n",
    "# from naive_bayes_model import NaiveBayesModel\n",
    "\n",
    "# Wrap X and y into (x, y) tuples\n",
    "def wrap_data(X, y):\n",
    "    return [(X[i], y[i]) for i in range(len(X))]\n",
    "\n",
    "# Load dataset\n",
    "iris = load_iris()\n",
    "X, y = iris.data, iris.target\n",
    "\n",
    "# Binary classification only for this simple example\n",
    "X = X[y != 2]\n",
    "y = y[y != 2]\n",
    "\n",
    "# Train-test split\n",
    "X_train, X_test, y_train, y_test = train_test_split(X, y, test_size=0.3, random_state=42)\n",
    "train_data = wrap_data(X_train, y_train)\n",
    "test_data = wrap_data(X_test, y_test)\n",
    "\n",
    "# Train model\n",
    "model = NaiveBayesModel()\n",
    "model.fit(train_data, test_data)\n",
    "\n",
    "# Plot accuracy over iterations\n",
    "scores = model.get_all_scores()\n",
    "accuracies = [score['accuracy'] for score in scores]\n",
    "\n",
    "plt.figure(figsize=(8, 5))\n",
    "plt.plot(range(1, len(accuracies)+1), accuracies, marker='o', linestyle='-', color='blue')\n",
    "plt.title(\"Model Accuracy over Batches\")\n",
    "plt.xlabel(\"Batch Number\")\n",
    "plt.ylabel(\"Accuracy\")\n",
    "plt.grid(True)\n",
    "plt.tight_layout()\n",
    "plt.show()\n"
   ]
  },
  {
   "cell_type": "code",
   "execution_count": 4,
   "metadata": {},
   "outputs": [
    {
     "data": {
      "text/plain": [
       "[(array([4.8, 3.4, 1.6, 0.2]), np.int64(0)),\n",
       " (array([4.6, 3.2, 1.4, 0.2]), np.int64(0)),\n",
       " (array([6. , 3.4, 4.5, 1.6]), np.int64(1)),\n",
       " (array([5.2, 3.4, 1.4, 0.2]), np.int64(0)),\n",
       " (array([5. , 2.3, 3.3, 1. ]), np.int64(1)),\n",
       " (array([5.4, 3.9, 1.7, 0.4]), np.int64(0)),\n",
       " (array([5.6, 3. , 4.5, 1.5]), np.int64(1)),\n",
       " (array([6.7, 3.1, 4.4, 1.4]), np.int64(1)),\n",
       " (array([5. , 3.2, 1.2, 0.2]), np.int64(0)),\n",
       " (array([5.4, 3.9, 1.3, 0.4]), np.int64(0)),\n",
       " (array([5. , 3.3, 1.4, 0.2]), np.int64(0)),\n",
       " (array([4.9, 3.1, 1.5, 0.2]), np.int64(0)),\n",
       " (array([5. , 3.4, 1.5, 0.2]), np.int64(0)),\n",
       " (array([5.7, 3. , 4.2, 1.2]), np.int64(1)),\n",
       " (array([5.2, 3.5, 1.5, 0.2]), np.int64(0)),\n",
       " (array([5.1, 3.8, 1.5, 0.3]), np.int64(0)),\n",
       " (array([5.5, 2.4, 3.7, 1. ]), np.int64(1)),\n",
       " (array([5. , 3. , 1.6, 0.2]), np.int64(0)),\n",
       " (array([6. , 2.2, 4. , 1. ]), np.int64(1)),\n",
       " (array([4.3, 3. , 1.1, 0.1]), np.int64(0)),\n",
       " (array([4.8, 3.4, 1.9, 0.2]), np.int64(0)),\n",
       " (array([4.6, 3.1, 1.5, 0.2]), np.int64(0)),\n",
       " (array([5.1, 3.5, 1.4, 0.3]), np.int64(0)),\n",
       " (array([4.4, 3. , 1.3, 0.2]), np.int64(0)),\n",
       " (array([4.4, 2.9, 1.4, 0.2]), np.int64(0)),\n",
       " (array([6. , 2.9, 4.5, 1.5]), np.int64(1)),\n",
       " (array([4.6, 3.4, 1.4, 0.3]), np.int64(0)),\n",
       " (array([5.6, 2.9, 3.6, 1.3]), np.int64(1)),\n",
       " (array([5.5, 3.5, 1.3, 0.2]), np.int64(0)),\n",
       " (array([5.5, 2.5, 4. , 1.3]), np.int64(1)),\n",
       " (array([6.3, 3.3, 4.7, 1.6]), np.int64(1)),\n",
       " (array([5.7, 2.8, 4.1, 1.3]), np.int64(1)),\n",
       " (array([6.5, 2.8, 4.6, 1.5]), np.int64(1)),\n",
       " (array([5. , 3.5, 1.6, 0.6]), np.int64(0)),\n",
       " (array([7. , 3.2, 4.7, 1.4]), np.int64(1)),\n",
       " (array([5.8, 2.7, 4.1, 1. ]), np.int64(1)),\n",
       " (array([5.1, 3.8, 1.6, 0.2]), np.int64(0)),\n",
       " (array([6.2, 2.2, 4.5, 1.5]), np.int64(1)),\n",
       " (array([5.9, 3. , 4.2, 1.5]), np.int64(1)),\n",
       " (array([6.2, 2.9, 4.3, 1.3]), np.int64(1)),\n",
       " (array([5.7, 2.6, 3.5, 1. ]), np.int64(1)),\n",
       " (array([4.5, 2.3, 1.3, 0.3]), np.int64(0)),\n",
       " (array([6.6, 2.9, 4.6, 1.3]), np.int64(1)),\n",
       " (array([5.3, 3.7, 1.5, 0.2]), np.int64(0)),\n",
       " (array([5.1, 2.5, 3. , 1.1]), np.int64(1)),\n",
       " (array([4.9, 2.4, 3.3, 1. ]), np.int64(1)),\n",
       " (array([6.6, 3. , 4.4, 1.4]), np.int64(1)),\n",
       " (array([5.2, 4.1, 1.5, 0.1]), np.int64(0)),\n",
       " (array([5.6, 2.7, 4.2, 1.3]), np.int64(1)),\n",
       " (array([5.2, 2.7, 3.9, 1.4]), np.int64(1)),\n",
       " (array([6.1, 2.9, 4.7, 1.4]), np.int64(1)),\n",
       " (array([5.4, 3. , 4.5, 1.5]), np.int64(1)),\n",
       " (array([4.9, 3.6, 1.4, 0.1]), np.int64(0)),\n",
       " (array([4.7, 3.2, 1.6, 0.2]), np.int64(0)),\n",
       " (array([4.9, 3. , 1.4, 0.2]), np.int64(0)),\n",
       " (array([6.9, 3.1, 4.9, 1.5]), np.int64(1)),\n",
       " (array([5.1, 3.7, 1.5, 0.4]), np.int64(0)),\n",
       " (array([4.7, 3.2, 1.3, 0.2]), np.int64(0)),\n",
       " (array([5.1, 3.3, 1.7, 0.5]), np.int64(0)),\n",
       " (array([6.3, 2.3, 4.4, 1.3]), np.int64(1)),\n",
       " (array([6.1, 3. , 4.6, 1.4]), np.int64(1)),\n",
       " (array([6.4, 2.9, 4.3, 1.3]), np.int64(1)),\n",
       " (array([6.7, 3.1, 4.7, 1.5]), np.int64(1)),\n",
       " (array([5.8, 2.7, 3.9, 1.2]), np.int64(1)),\n",
       " (array([5.4, 3.4, 1.7, 0.2]), np.int64(0)),\n",
       " (array([5. , 2. , 3.5, 1. ]), np.int64(1)),\n",
       " (array([6.1, 2.8, 4. , 1.3]), np.int64(1)),\n",
       " (array([5.8, 4. , 1.2, 0.2]), np.int64(0)),\n",
       " (array([5.8, 2.6, 4. , 1.2]), np.int64(1)),\n",
       " (array([6.4, 3.2, 4.5, 1.5]), np.int64(1))]"
      ]
     },
     "execution_count": 4,
     "metadata": {},
     "output_type": "execute_result"
    }
   ],
   "source": [
    "train_data"
   ]
  }
 ],
 "metadata": {
  "kernelspec": {
   "display_name": "Python 3",
   "language": "python",
   "name": "python3"
  },
  "language_info": {
   "codemirror_mode": {
    "name": "ipython",
    "version": 3
   },
   "file_extension": ".py",
   "mimetype": "text/x-python",
   "name": "python",
   "nbconvert_exporter": "python",
   "pygments_lexer": "ipython3",
   "version": "3.10.12"
  },
  "orig_nbformat": 4
 },
 "nbformat": 4,
 "nbformat_minor": 2
}
